{
 "cells": [
  {
   "cell_type": "code",
   "execution_count": 2,
   "metadata": {},
   "outputs": [],
   "source": [
    "import numpy as np\n",
    "import pandas as pd \n",
    "import matplotlib.pyplot as plt"
   ]
  },
  {
   "cell_type": "code",
   "execution_count": 9,
   "metadata": {},
   "outputs": [
    {
     "data": {
      "text/plain": [
       "[Pandas(Index=0, x=1, y=5),\n",
       " Pandas(Index=1, x=2, y=10),\n",
       " Pandas(Index=2, x=3, y=10),\n",
       " Pandas(Index=3, x=4, y=15),\n",
       " Pandas(Index=4, x=5, y=14),\n",
       " Pandas(Index=5, x=6, y=15),\n",
       " Pandas(Index=6, x=7, y=19),\n",
       " Pandas(Index=7, x=8, y=18),\n",
       " Pandas(Index=8, x=9, y=25),\n",
       " Pandas(Index=9, x=10, y=23)]"
      ]
     },
     "execution_count": 9,
     "metadata": {},
     "output_type": "execute_result"
    }
   ],
   "source": [
    "points=list(pd.read_csv(\"https://bit.ly/2KF29Bd\").itertuples())\n",
    "points"
   ]
  },
  {
   "cell_type": "markdown",
   "metadata": {},
   "source": [
    "Gradient Descent in Linear Regression\n"
   ]
  },
  {
   "cell_type": "code",
   "execution_count": null,
   "metadata": {},
   "outputs": [],
   "source": []
  }
 ],
 "metadata": {
  "kernelspec": {
   "display_name": "Python 3",
   "language": "python",
   "name": "python3"
  },
  "language_info": {
   "codemirror_mode": {
    "name": "ipython",
    "version": 3
   },
   "file_extension": ".py",
   "mimetype": "text/x-python",
   "name": "python",
   "nbconvert_exporter": "python",
   "pygments_lexer": "ipython3",
   "version": "3.12.1"
  }
 },
 "nbformat": 4,
 "nbformat_minor": 2
}
